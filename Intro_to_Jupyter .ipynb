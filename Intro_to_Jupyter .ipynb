{
 "cells": [
  {
   "cell_type": "markdown",
   "id": "587ded2f",
   "metadata": {},
   "source": [
    "# 1\n",
    "#  Jupyter Notebooks\n",
    "Jupyter Notebooks are a powerful and versatile tool widely used in the field of data science, research, and education. Developed as an open-source project, Jupyter Notebooks provide an interactive computing environment that allows users to create and share documents containing live code, equations, visualizations, and narrative text.\n",
    "\n",
    "Named after the core programming languages it supports—Julia, Python, and R—Jupyter Notebooks enable users to write and execute code in a modular and organized fashion. The notebooks consist of cells that can contain code snippets, text, or multimedia elements, fostering a seamless integration of documentation and computation.\n",
    "\n",
    "One of the key advantages of Jupyter Notebooks is their ability to run code in a step-by-step manner, allowing for real-time feedback and exploration of data. This interactive approach enhances the efficiency of data analysis, machine learning experimentation, and scientific research.\n",
    "\n",
    "Moreover, Jupyter Notebooks support a wide range of libraries and frameworks, making them an essential tool for data scientists, researchers, and educators. Their popularity stems from their accessibility, reproducibility, and the ability to create engaging and shareable documents that encapsulate both code and insights. Whether used for proto# Jupyter Notebooks\n",
    "typing, data visualization, or collaborative projects, Jupyter Notebooks play a pivotal role in facilitating interactive and reproducible computing experiences."
   ]
  },
  {
   "cell_type": "markdown",
   "id": "f3e21d15",
   "metadata": {},
   "source": [
    "# 2"
   ]
  },
  {
   "cell_type": "code",
   "execution_count": 1,
   "id": "fa3f3560",
   "metadata": {},
   "outputs": [
    {
     "name": "stdout",
     "output_type": "stream",
     "text": [
      "The Zen of Python, by Tim Peters\n",
      "\n",
      "Beautiful is better than ugly.\n",
      "Explicit is better than implicit.\n",
      "Simple is better than complex.\n",
      "Complex is better than complicated.\n",
      "Flat is better than nested.\n",
      "Sparse is better than dense.\n",
      "Readability counts.\n",
      "Special cases aren't special enough to break the rules.\n",
      "Although practicality beats purity.\n",
      "Errors should never pass silently.\n",
      "Unless explicitly silenced.\n",
      "In the face of ambiguity, refuse the temptation to guess.\n",
      "There should be one-- and preferably only one --obvious way to do it.\n",
      "Although that way may not be obvious at first unless you're Dutch.\n",
      "Now is better than never.\n",
      "Although never is often better than *right* now.\n",
      "If the implementation is hard to explain, it's a bad idea.\n",
      "If the implementation is easy to explain, it may be a good idea.\n",
      "Namespaces are one honking great idea -- let's do more of those!\n"
     ]
    }
   ],
   "source": [
    "import this"
   ]
  },
  {
   "cell_type": "code",
   "execution_count": 3,
   "id": "916efd1f",
   "metadata": {},
   "outputs": [],
   "source": [
    "# A new cell added "
   ]
  },
  {
   "cell_type": "code",
   "execution_count": 2,
   "id": "367da03e",
   "metadata": {},
   "outputs": [
    {
     "data": {
      "text/plain": [
       "4098"
      ]
     },
     "execution_count": 2,
     "metadata": {},
     "output_type": "execute_result"
    }
   ],
   "source": [
    "2049+2049"
   ]
  },
  {
   "cell_type": "markdown",
   "id": "d6695394",
   "metadata": {},
   "source": [
    "# 3\n",
    "# for titles use \n",
    "## for major headings \n",
    "### for subheadings \n",
    "#### for 4th level subheading"
   ]
  },
  {
   "cell_type": "markdown",
   "id": "1f245d59",
   "metadata": {},
   "source": [
    "*italics text* \n",
    "\n",
    "**bold text**"
   ]
  },
  {
   "cell_type": "markdown",
   "id": "fd5e506d",
   "metadata": {},
   "source": [
    "# Markdown cells with formatted text and headings\n",
    "1. Ordered list items start with numbers followed by a period.\n",
    "2. Now let us see how a sublist is created.\n",
    "   - To create a substep/sublist, press Tab before entering.\n",
    "   - Unordered list items are created using a hyphen or asterisk.\n",
    "\n",
    "## Table creation\n",
    "| Name   | Age | Occupation  |\n",
    "|--------|-----|-------------|\n",
    "| Kashish| 21  | Scientist   |\n",
    "| Raj    | 20  | Developer   |\n",
    "\n",
    "The table is created using pipes (|) to separate columns and hyphens to define the header row."
   ]
  },
  {
   "attachments": {
    "images.jpg": {
     "image/jpeg": "[encoded data removed]"
    }
   },
   "cell_type": "markdown",
   "id": "ab017cb7",
   "metadata": {},
   "source": [
    "# Insert images and hyperlinks using Markdown syntax\n",
    "## Image\n",
    "![images.jpg](attachment:images.jpg)\n",
    "\n",
    "## Hyperlink\n",
    "[Hyperlink created by Kashish Khanna](https://www.youtube.com/watch?v=yJg-Y5byMMw).\n"
   ]
  },
  {
   "cell_type": "markdown",
   "id": "1b5ba82e",
   "metadata": {},
   "source": [
    "# Create a Markdown cell with a list of your favorite programming languages\n",
    "1. Python\n",
    "2. C++\n",
    "3. Java\n",
    "4. C\n"
   ]
  },
  {
   "cell_type": "markdown",
   "id": "8963e2ca",
   "metadata": {},
   "source": [
    "# 4"
   ]
  },
  {
   "cell_type": "code",
   "execution_count": 2,
   "id": "17b5c2b6",
   "metadata": {},
   "outputs": [
    {
     "name": "stdout",
     "output_type": "stream",
     "text": [
      "Enter a number: 2\n",
      "The factorial of 2 is: 2\n"
     ]
    }
   ],
   "source": [
    "\n",
    "def factorial(n):\n",
    "    \"\"\"Calculate the factorial of a given number.\"\"\"\n",
    "    if n < 0:\n",
    "        return \"Factorial is not defined for negative numbers\"\n",
    "    elif n == 0 or n == 1:\n",
    "        return 1\n",
    "    else:\n",
    "        result = 1\n",
    "        for i in range(2, n + 1):\n",
    "            result *= i\n",
    "        return result\n",
    "\n",
    "\n",
    "number = int(input(\"Enter a number: \"))\n",
    "result = factorial(number)\n",
    "print(f\"The factorial of {number} is: {result}\")\n"
   ]
  },
  {
   "cell_type": "code",
   "execution_count": 9,
   "id": "e9ae65a9",
   "metadata": {},
   "outputs": [
    {
     "name": "stdout",
     "output_type": "stream",
     "text": [
      "Sample data: [10, 5, 8, 12, 7, 15, 3, 9, 11]\n",
      "Mean: 8.88888888888889\n",
      "Median: 9.0\n",
      "sqrt: [3.16227766 2.23606798 2.82842712 3.46410162 2.64575131 3.87298335\n",
      " 1.73205081 3.         3.31662479]\n",
      "log10: [1.         0.69897    0.90308999 1.07918125 0.84509804 1.17609126\n",
      " 0.47712125 0.95424251 1.04139269]\n"
     ]
    }
   ],
   "source": [
    "import numpy as np\n",
    "\n",
    "arr = [10, 5, 8, 12, 7, 15, 3, 9, 11]\n",
    "\n",
    "mean_value = np.mean(arr)\n",
    "median_value = np.median(arr)\n",
    "sqrt = np.sqrt(arr)\n",
    "log=np.log10(arr)\n",
    "print(f\"Sample data: {arr}\")\n",
    "print(f\"Mean: {mean_value}\")\n",
    "print(f\"Median: {median_value}\")\n",
    "print(f\"sqrt: {sqrt}\")\n",
    "print(f\"log10: {log}\")\n"
   ]
  },
  {
   "cell_type": "code",
   "execution_count": 10,
   "id": "3edd799f",
   "metadata": {},
   "outputs": [],
   "source": [
    "import pandas as pd\n",
    "import seaborn as sns\n",
    "import matplotlib.pyplot as plt"
   ]
  },
  {
   "cell_type": "code",
   "execution_count": 15,
   "id": "4b07cb9a",
   "metadata": {},
   "outputs": [],
   "source": [
    "df=pd.read_csv('titanic (2).csv')"
   ]
  },
  {
   "cell_type": "code",
   "execution_count": 16,
   "id": "1645a0e9",
   "metadata": {},
   "outputs": [
    {
     "data": {
      "text/html": [
       "<div>\n",
       "<style scoped>\n",
       "    .dataframe tbody tr th:only-of-type {\n",
       "        vertical-align: middle;\n",
       "    }\n",
       "\n",
       "    .dataframe tbody tr th {\n",
       "        vertical-align: top;\n",
       "    }\n",
       "\n",
       "    .dataframe thead th {\n",
       "        text-align: right;\n",
       "    }\n",
       "</style>\n",
       "<table border=\"1\" class=\"dataframe\">\n",
       "  <thead>\n",
       "    <tr style=\"text-align: right;\">\n",
       "      <th></th>\n",
       "      <th>survived</th>\n",
       "      <th>pclass</th>\n",
       "      <th>sex</th>\n",
       "      <th>age</th>\n",
       "      <th>sibsp</th>\n",
       "      <th>parch</th>\n",
       "      <th>fare</th>\n",
       "      <th>embarked</th>\n",
       "      <th>class</th>\n",
       "      <th>who</th>\n",
       "      <th>adult_male</th>\n",
       "      <th>deck</th>\n",
       "      <th>embark_town</th>\n",
       "      <th>alive</th>\n",
       "      <th>alone</th>\n",
       "    </tr>\n",
       "  </thead>\n",
       "  <tbody>\n",
       "    <tr>\n",
       "      <th>0</th>\n",
       "      <td>0</td>\n",
       "      <td>3</td>\n",
       "      <td>male</td>\n",
       "      <td>22.0</td>\n",
       "      <td>1</td>\n",
       "      <td>0</td>\n",
       "      <td>7.2500</td>\n",
       "      <td>S</td>\n",
       "      <td>Third</td>\n",
       "      <td>man</td>\n",
       "      <td>True</td>\n",
       "      <td>NaN</td>\n",
       "      <td>Southampton</td>\n",
       "      <td>no</td>\n",
       "      <td>False</td>\n",
       "    </tr>\n",
       "    <tr>\n",
       "      <th>1</th>\n",
       "      <td>1</td>\n",
       "      <td>1</td>\n",
       "      <td>female</td>\n",
       "      <td>38.0</td>\n",
       "      <td>1</td>\n",
       "      <td>0</td>\n",
       "      <td>71.2833</td>\n",
       "      <td>C</td>\n",
       "      <td>First</td>\n",
       "      <td>woman</td>\n",
       "      <td>False</td>\n",
       "      <td>C</td>\n",
       "      <td>Cherbourg</td>\n",
       "      <td>yes</td>\n",
       "      <td>False</td>\n",
       "    </tr>\n",
       "    <tr>\n",
       "      <th>2</th>\n",
       "      <td>1</td>\n",
       "      <td>3</td>\n",
       "      <td>female</td>\n",
       "      <td>26.0</td>\n",
       "      <td>0</td>\n",
       "      <td>0</td>\n",
       "      <td>7.9250</td>\n",
       "      <td>S</td>\n",
       "      <td>Third</td>\n",
       "      <td>woman</td>\n",
       "      <td>False</td>\n",
       "      <td>NaN</td>\n",
       "      <td>Southampton</td>\n",
       "      <td>yes</td>\n",
       "      <td>True</td>\n",
       "    </tr>\n",
       "    <tr>\n",
       "      <th>3</th>\n",
       "      <td>1</td>\n",
       "      <td>1</td>\n",
       "      <td>female</td>\n",
       "      <td>35.0</td>\n",
       "      <td>1</td>\n",
       "      <td>0</td>\n",
       "      <td>53.1000</td>\n",
       "      <td>S</td>\n",
       "      <td>First</td>\n",
       "      <td>woman</td>\n",
       "      <td>False</td>\n",
       "      <td>C</td>\n",
       "      <td>Southampton</td>\n",
       "      <td>yes</td>\n",
       "      <td>False</td>\n",
       "    </tr>\n",
       "    <tr>\n",
       "      <th>4</th>\n",
       "      <td>0</td>\n",
       "      <td>3</td>\n",
       "      <td>male</td>\n",
       "      <td>35.0</td>\n",
       "      <td>0</td>\n",
       "      <td>0</td>\n",
       "      <td>8.0500</td>\n",
       "      <td>S</td>\n",
       "      <td>Third</td>\n",
       "      <td>man</td>\n",
       "      <td>True</td>\n",
       "      <td>NaN</td>\n",
       "      <td>Southampton</td>\n",
       "      <td>no</td>\n",
       "      <td>True</td>\n",
       "    </tr>\n",
       "    <tr>\n",
       "      <th>...</th>\n",
       "      <td>...</td>\n",
       "      <td>...</td>\n",
       "      <td>...</td>\n",
       "      <td>...</td>\n",
       "      <td>...</td>\n",
       "      <td>...</td>\n",
       "      <td>...</td>\n",
       "      <td>...</td>\n",
       "      <td>...</td>\n",
       "      <td>...</td>\n",
       "      <td>...</td>\n",
       "      <td>...</td>\n",
       "      <td>...</td>\n",
       "      <td>...</td>\n",
       "      <td>...</td>\n",
       "    </tr>\n",
       "    <tr>\n",
       "      <th>886</th>\n",
       "      <td>0</td>\n",
       "      <td>2</td>\n",
       "      <td>male</td>\n",
       "      <td>27.0</td>\n",
       "      <td>0</td>\n",
       "      <td>0</td>\n",
       "      <td>13.0000</td>\n",
       "      <td>S</td>\n",
       "      <td>Second</td>\n",
       "      <td>man</td>\n",
       "      <td>True</td>\n",
       "      <td>NaN</td>\n",
       "      <td>Southampton</td>\n",
       "      <td>no</td>\n",
       "      <td>True</td>\n",
       "    </tr>\n",
       "    <tr>\n",
       "      <th>887</th>\n",
       "      <td>1</td>\n",
       "      <td>1</td>\n",
       "      <td>female</td>\n",
       "      <td>19.0</td>\n",
       "      <td>0</td>\n",
       "      <td>0</td>\n",
       "      <td>30.0000</td>\n",
       "      <td>S</td>\n",
       "      <td>First</td>\n",
       "      <td>woman</td>\n",
       "      <td>False</td>\n",
       "      <td>B</td>\n",
       "      <td>Southampton</td>\n",
       "      <td>yes</td>\n",
       "      <td>True</td>\n",
       "    </tr>\n",
       "    <tr>\n",
       "      <th>888</th>\n",
       "      <td>0</td>\n",
       "      <td>3</td>\n",
       "      <td>female</td>\n",
       "      <td>NaN</td>\n",
       "      <td>1</td>\n",
       "      <td>2</td>\n",
       "      <td>23.4500</td>\n",
       "      <td>S</td>\n",
       "      <td>Third</td>\n",
       "      <td>woman</td>\n",
       "      <td>False</td>\n",
       "      <td>NaN</td>\n",
       "      <td>Southampton</td>\n",
       "      <td>no</td>\n",
       "      <td>False</td>\n",
       "    </tr>\n",
       "    <tr>\n",
       "      <th>889</th>\n",
       "      <td>1</td>\n",
       "      <td>1</td>\n",
       "      <td>male</td>\n",
       "      <td>26.0</td>\n",
       "      <td>0</td>\n",
       "      <td>0</td>\n",
       "      <td>30.0000</td>\n",
       "      <td>C</td>\n",
       "      <td>First</td>\n",
       "      <td>man</td>\n",
       "      <td>True</td>\n",
       "      <td>C</td>\n",
       "      <td>Cherbourg</td>\n",
       "      <td>yes</td>\n",
       "      <td>True</td>\n",
       "    </tr>\n",
       "    <tr>\n",
       "      <th>890</th>\n",
       "      <td>0</td>\n",
       "      <td>3</td>\n",
       "      <td>male</td>\n",
       "      <td>32.0</td>\n",
       "      <td>0</td>\n",
       "      <td>0</td>\n",
       "      <td>7.7500</td>\n",
       "      <td>Q</td>\n",
       "      <td>Third</td>\n",
       "      <td>man</td>\n",
       "      <td>True</td>\n",
       "      <td>NaN</td>\n",
       "      <td>Queenstown</td>\n",
       "      <td>no</td>\n",
       "      <td>True</td>\n",
       "    </tr>\n",
       "  </tbody>\n",
       "</table>\n",
       "<p>891 rows × 15 columns</p>\n",
       "</div>"
      ],
      "text/plain": [
       "     survived  pclass     sex   age  sibsp  parch     fare embarked   class  \\\n",
       "0           0       3    male  22.0      1      0   7.2500        S   Third   \n",
       "1           1       1  female  38.0      1      0  71.2833        C   First   \n",
       "2           1       3  female  26.0      0      0   7.9250        S   Third   \n",
       "3           1       1  female  35.0      1      0  53.1000        S   First   \n",
       "4           0       3    male  35.0      0      0   8.0500        S   Third   \n",
       "..        ...     ...     ...   ...    ...    ...      ...      ...     ...   \n",
       "886         0       2    male  27.0      0      0  13.0000        S  Second   \n",
       "887         1       1  female  19.0      0      0  30.0000        S   First   \n",
       "888         0       3  female   NaN      1      2  23.4500        S   Third   \n",
       "889         1       1    male  26.0      0      0  30.0000        C   First   \n",
       "890         0       3    male  32.0      0      0   7.7500        Q   Third   \n",
       "\n",
       "       who  adult_male deck  embark_town alive  alone  \n",
       "0      man        True  NaN  Southampton    no  False  \n",
       "1    woman       False    C    Cherbourg   yes  False  \n",
       "2    woman       False  NaN  Southampton   yes   True  \n",
       "3    woman       False    C  Southampton   yes  False  \n",
       "4      man        True  NaN  Southampton    no   True  \n",
       "..     ...         ...  ...          ...   ...    ...  \n",
       "886    man        True  NaN  Southampton    no   True  \n",
       "887  woman       False    B  Southampton   yes   True  \n",
       "888  woman       False  NaN  Southampton    no  False  \n",
       "889    man        True    C    Cherbourg   yes   True  \n",
       "890    man        True  NaN   Queenstown    no   True  \n",
       "\n",
       "[891 rows x 15 columns]"
      ]
     },
     "execution_count": 16,
     "metadata": {},
     "output_type": "execute_result"
    }
   ],
   "source": [
    "df"
   ]
  },
  {
   "cell_type": "code",
   "execution_count": 17,
   "id": "0a11477c",
   "metadata": {},
   "outputs": [
    {
     "data": {
      "image/png": "[encoded data removed]",
      "text/plain": [
       "<Figure size 432x288 with 1 Axes>"
      ]
     },
     "metadata": {
      "needs_background": "light"
     },
     "output_type": "display_data"
    }
   ],
   "source": [
    "sns.histplot(df.age,kde=True, color='green')\n",
    "plt.title(\"Age Distribution\")\n",
    "plt.xlabel('Age')\n",
    "plt.show()"
   ]
  },
  {
   "cell_type": "code",
   "execution_count": 18,
   "id": "7d91f39f",
   "metadata": {},
   "outputs": [
    {
     "data": {
      "text/plain": [
       "<AxesSubplot:xlabel='pclass', ylabel='count'>"
      ]
     },
     "execution_count": 18,
     "metadata": {},
     "output_type": "execute_result"
    },
    {
     "data": {
      "image/png": "[encoded data removed]",
      "text/plain": [
       "<Figure size 432x288 with 1 Axes>"
      ]
     },
     "metadata": {
      "needs_background": "light"
     },
     "output_type": "display_data"
    }
   ],
   "source": [
    "sns.countplot(data=df,x=\"pclass\")"
   ]
  },
  {
   "cell_type": "markdown",
   "id": "80d805dc",
   "metadata": {},
   "source": [
    "# 5\n",
    "A kernel is a computational engine that executes the code contained in a notebook. It is responsible for running the code cells and managing the notebook's interactive computing environment. Each notebook is associated with a specific kernel, which determines the programming language and runtime environment for code execution."
   ]
  },
  {
   "cell_type": "markdown",
   "id": "6473d6f5",
   "metadata": {},
   "source": [
    "# 6\n",
    "In Jupyter Notebooks, you can export your work in various formats to share, present, or collaborate with others. The choice of export format depends on the purpose of sharing and the preferences of the recipients. Here are some common export formats and when they might be useful:\n",
    "\n",
    "1. HTML (.html): Useful for: Sharing interactive notebooks and visualizations with someone who doesn't use Jupyter directly. HTML files maintain the structure and interactivity of the notebook, allowing others to view your code, markdown, and interactive plots.\n",
    "2. PDF (.pdf): Useful for: Creating a static snapshot of your notebook for sharing or printing. PDFs are suitable for documents that need to be preserved in a fixed layout, and they can be easily shared across different platforms.\n",
    "3. Markdown (.md): Useful for: Converting your notebook to a plain text format with embedded markdown. Markdown files are easy to read and can be version controlled, making them suitable for documentation or collaborative writing.\n",
    "4. Jupyter Notebook (.ipynb): Useful for: Sharing the original notebook with others who use Jupyter. The .ipynb format preserves code, markdown, and interactive elements, allowing collaborators to execute and modify the notebook.\n",
    "5. Slides (.slides or .slides.html): Useful for: Creating a presentation directly from your notebook. Jupyter allows you to export slides that can be presented in a web browser. This format is convenient for sharing insights in a more dynamic way during a presentation.\n",
    "6. Executable Script (Python script, .py): Useful for: Exporting the code cells from your notebook into a standalone Python script. This is handy when you want to share the code for execution without the narrative and visualization aspects of the notebook.\n",
    "7. Latex (.tex): Useful for: Exporting your notebook to Latex for typesetting. This is beneficial when creating documents that require precise formatting and mathematical typesetting.\n",
    "8. GitHub (.gist): Useful for: Sharing your notebook as a GitHub Gist. This is a convenient way to share code snippets, data analyses, or visualizations directly on GitHub."
   ]
  },
  {
   "cell_type": "markdown",
   "id": "812d6708",
   "metadata": {},
   "source": [
    "# 7\n",
    "[GitHub file link](https://github.com/ArchitArora03/Machine_Learning_Lab/blob/main/Intro_to_Jupyter.ipynb)."
   ]
  },
  {
   "cell_type": "markdown",
   "id": "fa2ac767",
   "metadata": {},
   "source": [
    "# 8\n",
    "8.1. Learn about interactive widgets in Jupyter and their purpose.\n",
    "\n",
    "8.2. Create a simple interactive widget (e.g., a slider to input a number).\n",
    "\n",
    "8.3. Link the widget to a Python function (e.g., modifying a plot based on the widget's input).\n"
   ]
  },
  {
   "cell_type": "code",
   "execution_count": 20,
   "id": "c78b371b",
   "metadata": {},
   "outputs": [],
   "source": [
    "import ipywidgets as widgets\n",
    "from IPython.display import display"
   ]
  },
  {
   "cell_type": "code",
   "execution_count": 21,
   "id": "5e7e35a8",
   "metadata": {},
   "outputs": [
    {
     "data": {
      "application/vnd.jupyter.widget-view+json": {
       "model_id": "b9c7ebae01984c549d5f4794bc9bd9b6",
       "version_major": 2,
       "version_minor": 0
      },
      "text/plain": [
       "IntSlider(value=6, description='Number:', max=10, min=1)"
      ]
     },
     "metadata": {},
     "output_type": "display_data"
    }
   ],
   "source": [
    "slider = widgets.IntSlider(\n",
    "    value=6,  # Initial value\n",
    "    min=1,    # Minimum value\n",
    "    max=10,   # Maximum value\n",
    "    step=1,   # Step size\n",
    "    description='Number:'\n",
    ")\n",
    "\n",
    "\n",
    "display(slider)\n"
   ]
  },
  {
   "cell_type": "code",
   "execution_count": 22,
   "id": "97c6ac98",
   "metadata": {},
   "outputs": [
    {
     "data": {
      "application/vnd.jupyter.widget-view+json": {
       "model_id": "6eb742b48b184afda53eab246a66906a",
       "version_major": 2,
       "version_minor": 0
      },
      "text/plain": [
       "interactive(children=(IntSlider(value=8, description='Number:', max=10, min=1), Output()), _dom_classes=('widg…"
      ]
     },
     "metadata": {},
     "output_type": "display_data"
    }
   ],
   "source": [
    "import matplotlib.pyplot as plt\n",
    "import numpy as np\n",
    "\n",
    "\n",
    "def plot(value):\n",
    "    x = np.linspace(0, 10, 100)\n",
    "    y = np.cos(value * x)\n",
    "    \n",
    "    plt.plot(x, y)\n",
    "    plt.title(f'Cos Curve with Frequency: {value}')\n",
    "    plt.xlabel('X-axis')\n",
    "    plt.ylabel('Y-axis')\n",
    "    plt.show()\n",
    "\n",
    "widgets.interactive(plot, value=slider)\n"
   ]
  },
  {
   "cell_type": "markdown",
   "id": "500b13af",
   "metadata": {},
   "source": [
    "# 9\n",
    "Jupyter Notebook extensions are additional functionalities and enhancements that can be added to the Jupyter Notebook interface. They provide tools to simplify tasks, improve productivity, and enhance the overall user experience. One popular collection of extensions is the jupyter_contrib_nbextensions package."
   ]
  }
 ],
 "metadata": {
  "kernelspec": {
   "display_name": "Python 3 (ipykernel)",
   "language": "python",
   "name": "python3"
  },
  "language_info": {
   "codemirror_mode": {
    "name": "ipython",
    "version": 3
   },
   "file_extension": ".py",
   "mimetype": "text/x-python",
   "name": "python",
   "nbconvert_exporter": "python",
   "pygments_lexer": "ipython3",
   "version": "3.9.12"
  }
 },
 "nbformat": 4,
 "nbformat_minor": 5
}
